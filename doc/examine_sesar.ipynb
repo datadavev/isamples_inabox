{
 "cells": [
  {
   "cell_type": "code",
   "execution_count": 1,
   "metadata": {
    "pycharm": {
     "name": "#%%\n"
    }
   },
   "outputs": [
    {
     "name": "stdout",
     "output_type": "stream",
     "text": [
      "Using database at: sqlite+pysqlite:////Users/vieglais/Documents/Projects/isamples/source/isamples_inabox/data/3sesar_thing_sample.db\n"
     ]
    }
   ],
   "source": [
    "# Make a stash of Things in sqlite...\n",
    "import os\n",
    "import sqlalchemy\n",
    "import sqlalchemy.sql.func\n",
    "import sqlalchemy.orm\n",
    "import igsn_lib\n",
    "import isb_lib.sesar_adaptor\n",
    "import igsn_lib.time\n",
    "import igsn_lib.models\n",
    "import igsn_lib.models.thing\n",
    "\n",
    "data_dir = \"../data/\"\n",
    "os.makedirs(data_dir, exist_ok=True)\n",
    "db_file = os.path.abspath(os.path.join(data_dir, \"3sesar_thing_sample.db\"))\n",
    "db_url = \"sqlite+pysqlite:///\" + db_file\n",
    "print(f\"Using database at: {db_url}\")\n",
    "\n",
    "engine = igsn_lib.models.getEngine(db_url)\n",
    "session = igsn_lib.models.getSession(engine)"
   ]
  },
  {
   "cell_type": "code",
   "execution_count": 10,
   "outputs": [
    {
     "name": "stdout",
     "output_type": "stream",
     "text": [
      "Currently 1709 things in store\n",
      "Average resolve time = 5.798 sec\n"
     ]
    }
   ],
   "source": [
    "num_things = session.query(igsn_lib.models.thing.Thing).count()\n",
    "print(f\"Currently {num_things} things in store\")\n",
    "elapsed = session.query(sqlalchemy.sql.func.avg(igsn_lib.models.thing.Thing.resolve_elapsed)).one()[0]\n",
    "print(f\"Average resolve time = {elapsed:.3f} sec\")"
   ],
   "metadata": {
    "collapsed": false,
    "pycharm": {
     "name": "#%%\n"
    }
   }
  }
 ],
 "metadata": {
  "kernelspec": {
   "display_name": "Python 3",
   "language": "python",
   "name": "python3"
  },
  "language_info": {
   "codemirror_mode": {
    "name": "ipython",
    "version": 3
   },
   "file_extension": ".py",
   "mimetype": "text/x-python",
   "name": "python",
   "nbconvert_exporter": "python",
   "pygments_lexer": "ipython3",
   "version": "3.9.1"
  }
 },
 "nbformat": 4,
 "nbformat_minor": 1
}