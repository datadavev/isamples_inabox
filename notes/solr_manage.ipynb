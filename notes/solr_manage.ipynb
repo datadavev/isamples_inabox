{
 "cells": [
  {
   "cell_type": "code",
   "execution_count": 39,
   "metadata": {
    "collapsed": true
   },
   "outputs": [
    {
     "name": "stdout",
     "output_type": "stream",
     "text": [
      "[\n",
      "  {\n",
      "    \"name\": \"_nest_path_\",\n",
      "    \"type\": \"_nest_path_\"\n",
      "  },\n",
      "  {\n",
      "    \"name\": \"_root_\",\n",
      "    \"type\": \"string\",\n",
      "    \"docValues\": false,\n",
      "    \"indexed\": true,\n",
      "    \"stored\": false\n",
      "  },\n",
      "  {\n",
      "    \"name\": \"_text_\",\n",
      "    \"type\": \"text_general\",\n",
      "    \"multiValued\": true,\n",
      "    \"indexed\": true,\n",
      "    \"stored\": false\n",
      "  },\n",
      "  {\n",
      "    \"name\": \"_version_\",\n",
      "    \"type\": \"plong\",\n",
      "    \"indexed\": false,\n",
      "    \"stored\": false\n",
      "  },\n",
      "  {\n",
      "    \"name\": \"id\",\n",
      "    \"type\": \"string\",\n",
      "    \"multiValued\": false,\n",
      "    \"indexed\": true,\n",
      "    \"required\": true,\n",
      "    \"stored\": true\n",
      "  },\n",
      "  {\n",
      "    \"name\": \"name\",\n",
      "    \"type\": \"string\",\n",
      "    \"default\": \"\",\n",
      "    \"indexed\": true,\n",
      "    \"stored\": true\n",
      "  },\n",
      "  {\n",
      "    \"name\": \"o\",\n",
      "    \"type\": \"string\",\n",
      "    \"indexed\": true,\n",
      "    \"stored\": true\n",
      "  },\n",
      "  {\n",
      "    \"name\": \"p\",\n",
      "    \"type\": \"string\",\n",
      "    \"indexed\": true,\n",
      "    \"stored\": true\n",
      "  },\n",
      "  {\n",
      "    \"name\": \"s\",\n",
      "    \"type\": \"string\",\n",
      "    \"indexed\": true,\n",
      "    \"stored\": true\n",
      "  },\n",
      "  {\n",
      "    \"name\": \"source\",\n",
      "    \"type\": \"string\",\n",
      "    \"indexed\": true,\n",
      "    \"stored\": true\n",
      "  },\n",
      "  {\n",
      "    \"name\": \"tstamp\",\n",
      "    \"type\": \"pdate\",\n",
      "    \"indexed\": true,\n",
      "    \"stored\": true\n",
      "  }\n",
      "]\n"
     ]
    }
   ],
   "source": [
    "import json\n",
    "import requests\n",
    "\n",
    "SOLR_API = \"http://localhost:8983/api/collections/isb_rel/\"\n",
    "MEDIA_JSON = \"application/json\"\n",
    "\n",
    "def pj(o):\n",
    "    print(json.dumps(o, indent=2))\n",
    "\n",
    "def listFields():\n",
    "    headers = {\n",
    "        \"Accept\":MEDIA_JSON\n",
    "    }\n",
    "    _schema = requests.get(f\"{SOLR_API}schema\", headers=headers).json()\n",
    "    return _schema.get(\"schema\",{}).get(\"fields\")\n",
    "\n",
    "def listFieldTypes():\n",
    "    headers = {\n",
    "        \"Accept\":MEDIA_JSON\n",
    "    }\n",
    "    _schema = requests.get(f\"{SOLR_API}schema\", headers=headers).json()\n",
    "    return _schema.get(\"schema\",{}).get(\"fieldTypes\")\n",
    "\n",
    "def createField(fname, ftype=\"string\", stored=True, indexed=True, default=None):\n",
    "    headers = {\n",
    "        \"Content-Type\":MEDIA_JSON\n",
    "    }\n",
    "    data = {\n",
    "    \"add-field\": {\n",
    "        \"name\": fname,\n",
    "        \"type\": ftype,\n",
    "        \"stored\": stored,\n",
    "        \"indexed\": indexed,\n",
    "    }}\n",
    "    if not default is None:\n",
    "        data[\"add-field\"][\"default\"] = default\n",
    "    data = json.dumps(data).encode(\"utf-8\")\n",
    "    res = requests.post(f\"{SOLR_API}schema\", headers=headers, data=data)\n",
    "    pj(res.json())\n",
    "\n",
    "pj(listFields())"
   ]
  },
  {
   "cell_type": "markdown",
   "source": [
    "```\n",
    "datetime : pdate\n",
    "URI : string\n",
    "```"
   ],
   "metadata": {
    "collapsed": false
   }
  },
  {
   "cell_type": "code",
   "execution_count": 12,
   "outputs": [
    {
     "name": "stdout",
     "output_type": "stream",
     "text": [
      "{\n",
      "  \"responseHeader\": {\n",
      "    \"status\": 400,\n",
      "    \"QTime\": 7\n",
      "  },\n",
      "  \"error\": {\n",
      "    \"metadata\": [\n",
      "      \"error-class\",\n",
      "      \"org.apache.solr.api.ApiBag$ExceptionWithErrObject\",\n",
      "      \"root-error-class\",\n",
      "      \"org.apache.solr.api.ApiBag$ExceptionWithErrObject\"\n",
      "    ],\n",
      "    \"details\": [\n",
      "      {\n",
      "        \"add-field\": {\n",
      "          \"name\": \"name\",\n",
      "          \"type\": \"string\",\n",
      "          \"stored\": true,\n",
      "          \"indexed\": true,\n",
      "          \"default\": \"\"\n",
      "        },\n",
      "        \"errorMessages\": [\n",
      "          \"Field 'name' already exists.\\n\"\n",
      "        ]\n",
      "      }\n",
      "    ],\n",
      "    \"msg\": \"error processing commands\",\n",
      "    \"code\": 400\n",
      "  }\n",
      "}\n",
      "{\n",
      "  \"responseHeader\": {\n",
      "    \"status\": 0,\n",
      "    \"QTime\": 202\n",
      "  }\n",
      "}\n",
      "{\n",
      "  \"responseHeader\": {\n",
      "    \"status\": 0,\n",
      "    \"QTime\": 179\n",
      "  }\n",
      "}\n",
      "{\n",
      "  \"responseHeader\": {\n",
      "    \"status\": 0,\n",
      "    \"QTime\": 170\n",
      "  }\n",
      "}\n",
      "{\n",
      "  \"responseHeader\": {\n",
      "    \"status\": 0,\n",
      "    \"QTime\": 171\n",
      "  }\n",
      "}\n",
      "{\n",
      "  \"responseHeader\": {\n",
      "    \"status\": 0,\n",
      "    \"QTime\": 181\n",
      "  }\n",
      "}\n"
     ]
    }
   ],
   "source": [
    "createField(\"name\", \"string\", True, True, \"\")\n",
    "createField(\"source\", \"string\", True, True)\n",
    "createField(\"s\", \"string\", True, True)\n",
    "createField(\"p\", \"string\", True, True)\n",
    "createField(\"o\", \"string\", True, True)\n",
    "createField(\"tstamp\", \"pdate\", True, True)"
   ],
   "metadata": {
    "collapsed": false,
    "pycharm": {
     "name": "#%%\n"
    }
   }
  },
  {
   "cell_type": "code",
   "execution_count": 40,
   "outputs": [
    {
     "name": "stdout",
     "output_type": "stream",
     "text": [
      "status: 200\n",
      "{\n",
      "  \"responseHeader\":{\n",
      "    \"status\":0,\n",
      "    \"QTime\":86}}\n",
      "\n"
     ]
    }
   ],
   "source": [
    "def deleteRecords(q=\"*:*\"):\n",
    "    headers = {\n",
    "        \"Content-Type\":MEDIA_JSON\n",
    "    }\n",
    "    url = f\"http://localhost:8983/solr/isb_rel/update\"\n",
    "    doc = {\"delete\":{\"query\":q}}\n",
    "    doc = json.dumps(doc).encode(\"utf-8\")\n",
    "    params={\"commit\":\"true\"}\n",
    "    res = requests.post(url, headers=headers, data=doc, params=params)\n",
    "    print(f\"status: {res.status_code}\")\n",
    "    print(res.text)\n",
    "\n",
    "deleteRecords()"
   ],
   "metadata": {
    "collapsed": false,
    "pycharm": {
     "name": "#%%\n"
    }
   }
  }
 ],
 "metadata": {
  "kernelspec": {
   "display_name": "Python 3",
   "language": "python",
   "name": "python3"
  },
  "language_info": {
   "codemirror_mode": {
    "name": "ipython",
    "version": 2
   },
   "file_extension": ".py",
   "mimetype": "text/x-python",
   "name": "python",
   "nbconvert_exporter": "python",
   "pygments_lexer": "ipython2",
   "version": "2.7.6"
  }
 },
 "nbformat": 4,
 "nbformat_minor": 0
}