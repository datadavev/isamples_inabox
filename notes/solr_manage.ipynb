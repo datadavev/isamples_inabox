{
 "cells": [
  {
   "cell_type": "markdown",
   "source": [
    "# Solr notes\n",
    "\n",
    "See https://hackmd.io/HnDFextyRU2gLSaBCT7vjw for general notes.\n",
    "\n",
    "## Ubuntu setup\n",
    "\n",
    "Solr config:\n",
    "```\n",
    "/etc/default/solr.in.sh\n",
    "\n",
    "ZK_HOST=\"localhost:2181/solr\"\n",
    "ZK_CLIENT_TIMEOUT=\"30000\"\n",
    "SOLR_HOST=\"127.0.0.1\"\n",
    "SOLR_WAIT_FOR_ZK=\"30\"\n",
    "SOLR_PID_DIR=\"/var/solr\"\n",
    "SOLR_HOME=\"/var/solr/data\"\n",
    "LOG4J_PROPS=\"/var/solr/log4j2.xml\"\n",
    "SOLR_LOGS_DIR=\"/var/solr/logs\"\n",
    "SOLR_PORT=\"8983\"\n",
    "```\n",
    "\n",
    "Setup zookeeper:\n",
    "```\n",
    "bin/solr zk mkroot /solr -z localhost:2181\n",
    "server/scripts/cloud-scripts/zkcli.sh \\\n",
    "  -z localhost:2181 \\\n",
    "  -cmd bootstrap \\\n",
    "  -solrhome /var/solr/data\n",
    "```\n",
    "\n",
    "Create a core:\n",
    "```\n",
    "sudo su - solr\n",
    "/opt/solr/bin/solr create -c isb_rel\n",
    "```\n",
    "\n",
    "Then set autocreate fields off, with:\n",
    "```\n",
    "solr config -c isb_rel -p 8983 \\\n",
    "  -action set-user-property \\\n",
    "  -property update.autoCreateFields \\\n",
    "  -value false\n",
    "```\n"
   ],
   "metadata": {
    "collapsed": false,
    "pycharm": {
     "name": "#%% md\n"
    }
   }
  },
  {
   "cell_type": "code",
   "execution_count": 1,
   "metadata": {
    "collapsed": true
   },
   "outputs": [
    {
     "name": "stdout",
     "output_type": "stream",
     "text": [
      "null\n"
     ]
    }
   ],
   "source": [
    "import json\n",
    "import requests\n",
    "\n",
    "SOLR_API = \"http://localhost:8983/api/collections/isb_rel/\"\n",
    "MEDIA_JSON = \"application/json\"\n",
    "\n",
    "def pj(o):\n",
    "    print(json.dumps(o, indent=2))\n",
    "\n",
    "def listFields():\n",
    "    headers = {\n",
    "        \"Accept\":MEDIA_JSON\n",
    "    }\n",
    "    _schema = requests.get(f\"{SOLR_API}schema\", headers=headers).json()\n",
    "    return _schema.get(\"schema\",{}).get(\"fields\")\n",
    "\n",
    "def listFieldTypes():\n",
    "    headers = {\n",
    "        \"Accept\":MEDIA_JSON\n",
    "    }\n",
    "    _schema = requests.get(f\"{SOLR_API}schema\", headers=headers).json()\n",
    "    return _schema.get(\"schema\",{}).get(\"fieldTypes\")\n",
    "\n",
    "def createField(fname, ftype=\"string\", stored=True, indexed=True, default=None):\n",
    "    headers = {\n",
    "        \"Content-Type\":MEDIA_JSON\n",
    "    }\n",
    "    data = {\n",
    "    \"add-field\": {\n",
    "        \"name\": fname,\n",
    "        \"type\": ftype,\n",
    "        \"stored\": stored,\n",
    "        \"indexed\": indexed,\n",
    "    }}\n",
    "    if not default is None:\n",
    "        data[\"add-field\"][\"default\"] = default\n",
    "    data = json.dumps(data).encode(\"utf-8\")\n",
    "    res = requests.post(f\"{SOLR_API}schema\", headers=headers, data=data)\n",
    "    pj(res.json())\n",
    "\n",
    "pj(listFields())"
   ]
  },
  {
   "cell_type": "markdown",
   "source": [
    "```\n",
    "datetime : pdate\n",
    "URI : string\n",
    "```"
   ],
   "metadata": {
    "collapsed": false
   }
  },
  {
   "cell_type": "code",
   "execution_count": 2,
   "outputs": [
    {
     "name": "stdout",
     "output_type": "stream",
     "text": [
      "{\n",
      "  \"error\": {\n",
      "    \"metadata\": [\n",
      "      \"error-class\",\n",
      "      \"org.apache.solr.common.SolrException\",\n",
      "      \"root-error-class\",\n",
      "      \"org.apache.solr.common.SolrException\"\n",
      "    ],\n",
      "    \"msg\": \"Solr not running in cloud mode \",\n",
      "    \"code\": 400\n",
      "  }\n",
      "}\n",
      "{\n",
      "  \"error\": {\n",
      "    \"metadata\": [\n",
      "      \"error-class\",\n",
      "      \"org.apache.solr.common.SolrException\",\n",
      "      \"root-error-class\",\n",
      "      \"org.apache.solr.common.SolrException\"\n",
      "    ],\n",
      "    \"msg\": \"Solr not running in cloud mode \",\n",
      "    \"code\": 400\n",
      "  }\n",
      "}\n",
      "{\n",
      "  \"error\": {\n",
      "    \"metadata\": [\n",
      "      \"error-class\",\n",
      "      \"org.apache.solr.common.SolrException\",\n",
      "      \"root-error-class\",\n",
      "      \"org.apache.solr.common.SolrException\"\n",
      "    ],\n",
      "    \"msg\": \"Solr not running in cloud mode \",\n",
      "    \"code\": 400\n",
      "  }\n",
      "}\n",
      "{\n",
      "  \"error\": {\n",
      "    \"metadata\": [\n",
      "      \"error-class\",\n",
      "      \"org.apache.solr.common.SolrException\",\n",
      "      \"root-error-class\",\n",
      "      \"org.apache.solr.common.SolrException\"\n",
      "    ],\n",
      "    \"msg\": \"Solr not running in cloud mode \",\n",
      "    \"code\": 400\n",
      "  }\n",
      "}\n",
      "{\n",
      "  \"error\": {\n",
      "    \"metadata\": [\n",
      "      \"error-class\",\n",
      "      \"org.apache.solr.common.SolrException\",\n",
      "      \"root-error-class\",\n",
      "      \"org.apache.solr.common.SolrException\"\n",
      "    ],\n",
      "    \"msg\": \"Solr not running in cloud mode \",\n",
      "    \"code\": 400\n",
      "  }\n",
      "}\n",
      "{\n",
      "  \"error\": {\n",
      "    \"metadata\": [\n",
      "      \"error-class\",\n",
      "      \"org.apache.solr.common.SolrException\",\n",
      "      \"root-error-class\",\n",
      "      \"org.apache.solr.common.SolrException\"\n",
      "    ],\n",
      "    \"msg\": \"Solr not running in cloud mode \",\n",
      "    \"code\": 400\n",
      "  }\n",
      "}\n"
     ]
    }
   ],
   "source": [
    "createField(\"name\", \"string\", True, True, \"\")\n",
    "createField(\"source\", \"string\", True, True)\n",
    "createField(\"s\", \"string\", True, True)\n",
    "createField(\"p\", \"string\", True, True)\n",
    "createField(\"o\", \"string\", True, True)\n",
    "createField(\"tstamp\", \"pdate\", True, True)"
   ],
   "metadata": {
    "collapsed": false,
    "pycharm": {
     "name": "#%%\n"
    }
   }
  },
  {
   "cell_type": "code",
   "execution_count": 4,
   "outputs": [
    {
     "name": "stdout",
     "output_type": "stream",
     "text": [
      "status: 200\n",
      "{\n",
      "  \"responseHeader\":{\n",
      "    \"rf\":1,\n",
      "    \"status\":0,\n",
      "    \"QTime\":31}}\n",
      "\n"
     ]
    }
   ],
   "source": [
    "def deleteRecords(q=\"*:*\"):\n",
    "    headers = {\n",
    "        \"Content-Type\":MEDIA_JSON\n",
    "    }\n",
    "    url = f\"http://localhost:8983/solr/isb_rel/update\"\n",
    "    doc = {\"delete\":{\"query\":q}}\n",
    "    doc = json.dumps(doc).encode(\"utf-8\")\n",
    "    params={\"commit\":\"true\"}\n",
    "    res = requests.post(url, headers=headers, data=doc, params=params)\n",
    "    print(f\"status: {res.status_code}\")\n",
    "    print(res.text)\n",
    "\n",
    "deleteRecords()"
   ],
   "metadata": {
    "collapsed": false,
    "pycharm": {
     "name": "#%%\n"
    }
   }
  }
 ],
 "metadata": {
  "kernelspec": {
   "display_name": "Python 3",
   "language": "python",
   "name": "python3"
  },
  "language_info": {
   "codemirror_mode": {
    "name": "ipython",
    "version": 2
   },
   "file_extension": ".py",
   "mimetype": "text/x-python",
   "name": "python",
   "nbconvert_exporter": "python",
   "pygments_lexer": "ipython2",
   "version": "2.7.6"
  }
 },
 "nbformat": 4,
 "nbformat_minor": 0
}